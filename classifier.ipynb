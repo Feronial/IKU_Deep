{
 "cells": [
  {
   "cell_type": "code",
   "execution_count": 6,
   "metadata": {
    "ExecuteTime": {
     "end_time": "2020-04-21T06:08:17.012926Z",
     "start_time": "2020-04-21T06:08:17.004990Z"
    }
   },
   "outputs": [],
   "source": [
    "import numpy as np\n",
    "\n",
    "from tensorflow.keras.preprocessing.image import ImageDataGenerator"
   ]
  },
  {
   "cell_type": "code",
   "execution_count": 7,
   "metadata": {
    "ExecuteTime": {
     "end_time": "2020-04-21T06:08:30.315740Z",
     "start_time": "2020-04-21T06:08:30.312061Z"
    }
   },
   "outputs": [],
   "source": [
    "BATCH_SIZE = 32"
   ]
  },
  {
   "cell_type": "code",
   "execution_count": 10,
   "metadata": {
    "ExecuteTime": {
     "end_time": "2020-04-21T06:11:49.123418Z",
     "start_time": "2020-04-21T06:11:48.160855Z"
    }
   },
   "outputs": [
    {
     "name": "stdout",
     "output_type": "stream",
     "text": [
      "Found 23657 images belonging to 175 classes.\n",
      "Found 875 images belonging to 175 classes.\n"
     ]
    }
   ],
   "source": [
    "train_gen = ImageDataGenerator()\n",
    "\n",
    "train_flow = train_gen.flow_from_directory(directory = './100-bird-species/175/train/',\n",
    "                                           target_size = (224, 224),\n",
    "                                           color_mode = 'rgb',\n",
    "                                           class_mode  = 'catgorical',\n",
    "                                           batch_size = BATCH_SIZE)\n",
    "\n",
    "test_gen = ImageDataGenerator()\n",
    "\n",
    "test_flow = test_gen.flow_from_directory(directory = './100-bird-species/175/test/',\n",
    "                                         target_size = (224, 224),\n",
    "                                         color_mode = 'rgb',\n",
    "                                         class_mode  = 'categorical',\n",
    "                                         batch_size = BATCH_SIZE) "
   ]
  },
  {
   "cell_type": "code",
   "execution_count": 5,
   "metadata": {
    "ExecuteTime": {
     "end_time": "2020-04-21T06:07:40.367258Z",
     "start_time": "2020-04-21T06:07:40.337560Z"
    }
   },
   "outputs": [
    {
     "data": {
      "text/plain": [
       "{'ALBATROSS': 0,\n",
       " 'ALEXANDRINE PARAKEET': 1,\n",
       " 'AMERICAN AVOCET': 2,\n",
       " 'AMERICAN BITTERN': 3,\n",
       " 'AMERICAN COOT': 4,\n",
       " 'AMERICAN GOLDFINCH': 5,\n",
       " 'AMERICAN KESTREL': 6,\n",
       " 'AMERICAN PIPIT': 7,\n",
       " 'AMERICAN REDSTART': 8,\n",
       " 'ANHINGA': 9,\n",
       " 'ANNAS HUMMINGBIRD': 10,\n",
       " 'ARARIPE MANAKIN': 11,\n",
       " 'BALD EAGLE': 12,\n",
       " 'BALTIMORE ORIOLE': 13,\n",
       " 'BANANAQUIT': 14,\n",
       " 'BAR-TAILED GODWIT': 15,\n",
       " 'BARN OWL': 16,\n",
       " 'BARN SWALLOW': 17,\n",
       " 'BAY-BREASTED WARBLER': 18,\n",
       " 'BELTED KINGFISHER': 19,\n",
       " 'BIRD OF PARADISE': 20,\n",
       " 'BLACK FRANCOLIN': 21,\n",
       " 'BLACK SKIMMER': 22,\n",
       " 'BLACK SWAN': 23,\n",
       " 'BLACK THROATED WARBLER': 24,\n",
       " 'BLACK VULTURE': 25,\n",
       " 'BLACK-CAPPED CHICKADEE': 26,\n",
       " 'BLACK-NECKED GREBE': 27,\n",
       " 'BLACKBURNIAM WARBLER': 28,\n",
       " 'BLUE GROUSE': 29,\n",
       " 'BLUE HERON': 30,\n",
       " 'BOBOLINK': 31,\n",
       " 'BROWN THRASHER': 32,\n",
       " 'CACTUS WREN': 33,\n",
       " 'CALIFORNIA CONDOR': 34,\n",
       " 'CALIFORNIA GULL': 35,\n",
       " 'CALIFORNIA QUAIL': 36,\n",
       " 'CAPE MAY WARBLER': 37,\n",
       " 'CARMINE BEE-EATER': 38,\n",
       " 'CASPIAN TERN': 39,\n",
       " 'CASSOWARY': 40,\n",
       " 'CHARA DE COLLAR': 41,\n",
       " 'CHIPPING SPARROW': 42,\n",
       " 'CINNAMON TEAL': 43,\n",
       " 'COCK OF THE  ROCK': 44,\n",
       " 'COCKATOO': 45,\n",
       " 'COMMON GRACKLE': 46,\n",
       " 'COMMON HOUSE MARTIN': 47,\n",
       " 'COMMON LOON': 48,\n",
       " 'COMMON POORWILL': 49,\n",
       " 'COMMON STARLING': 50,\n",
       " 'COUCHS KINGBIRD': 51,\n",
       " 'CRESTED AUKLET': 52,\n",
       " 'CRESTED CARACARA': 53,\n",
       " 'CROW': 54,\n",
       " 'CROWNED PIGEON': 55,\n",
       " 'CUBAN TODY': 56,\n",
       " 'CURL CRESTED ARACURI': 57,\n",
       " 'DARK EYED JUNCO': 58,\n",
       " 'DOVEKIE': 59,\n",
       " 'DOWNY WOODPECKER': 60,\n",
       " 'EASTERN BLUEBIRD': 61,\n",
       " 'EASTERN MEADOWLARK': 62,\n",
       " 'EASTERN ROSELLA': 63,\n",
       " 'EASTERN TOWEE': 64,\n",
       " 'ELEGANT TROGON': 65,\n",
       " 'ELLIOTS  PHEASANT': 66,\n",
       " 'EMPEROR PENGUIN': 67,\n",
       " 'EMU': 68,\n",
       " 'EURASIAN MAGPIE': 69,\n",
       " 'EVENING GROSBEAK': 70,\n",
       " 'FLAME TANAGER': 71,\n",
       " 'FLAMINGO': 72,\n",
       " 'FRIGATE': 73,\n",
       " 'GILA WOODPECKER': 74,\n",
       " 'GLOSSY IBIS': 75,\n",
       " 'GOLD WING WARBLER': 76,\n",
       " 'GOLDEN CHLOROPHONIA': 77,\n",
       " 'GOLDEN EAGLE': 78,\n",
       " 'GOLDEN PHEASANT': 79,\n",
       " 'GOULDIAN FINCH': 80,\n",
       " 'GRAY CATBIRD': 81,\n",
       " 'GRAY PARTRIDGE': 82,\n",
       " 'GREEN JAY': 83,\n",
       " 'GREY PLOVER': 84,\n",
       " 'GUINEAFOWL': 85,\n",
       " 'HAWAIIAN GOOSE': 86,\n",
       " 'HOODED MERGANSER': 87,\n",
       " 'HOOPOES': 88,\n",
       " 'HORNBILL': 89,\n",
       " 'HOUSE FINCH': 90,\n",
       " 'HOUSE SPARROW': 91,\n",
       " 'HYACINTH MACAW': 92,\n",
       " 'INDIGO BUNTING': 93,\n",
       " 'JABIRU': 94,\n",
       " 'JAVAN MAGPIE': 95,\n",
       " 'KILLDEAR': 96,\n",
       " 'KING VULTURE': 97,\n",
       " 'LARK BUNTING': 98,\n",
       " 'LILAC ROLLER': 99,\n",
       " 'LONG-EARED OWL': 100,\n",
       " 'MALEO': 101,\n",
       " 'MALLARD DUCK': 102,\n",
       " 'MANDRIN DUCK': 103,\n",
       " 'MARABOU STORK': 104,\n",
       " 'MASKED BOOBY': 105,\n",
       " 'MIKADO  PHEASANT': 106,\n",
       " 'MOURNING DOVE': 107,\n",
       " 'MYNA': 108,\n",
       " 'NICOBAR PIGEON': 109,\n",
       " 'NORTHERN CARDINAL': 110,\n",
       " 'NORTHERN FLICKER': 111,\n",
       " 'NORTHERN GANNET': 112,\n",
       " 'NORTHERN GOSHAWK': 113,\n",
       " 'NORTHERN JACANA': 114,\n",
       " 'NORTHERN MOCKINGBIRD': 115,\n",
       " 'NORTHERN RED BISHOP': 116,\n",
       " 'OCELLATED TURKEY': 117,\n",
       " 'OSPREY': 118,\n",
       " 'OSTRICH': 119,\n",
       " 'PAINTED BUNTIG': 120,\n",
       " 'PARADISE TANAGER': 121,\n",
       " 'PARUS MAJOR': 122,\n",
       " 'PEACOCK': 123,\n",
       " 'PELICAN': 124,\n",
       " 'PEREGRINE FALCON': 125,\n",
       " 'PINK ROBIN': 126,\n",
       " 'PUFFIN': 127,\n",
       " 'PURPLE FINCH': 128,\n",
       " 'PURPLE GALLINULE': 129,\n",
       " 'PURPLE MARTIN': 130,\n",
       " 'PURPLE SWAMPHEN': 131,\n",
       " 'QUETZAL': 132,\n",
       " 'RAINBOW LORIKEET': 133,\n",
       " 'RED FACED CORMORANT': 134,\n",
       " 'RED HEADED WOODPECKER': 135,\n",
       " 'RED THROATED BEE EATER': 136,\n",
       " 'RED WINGED BLACKBIRD': 137,\n",
       " 'RED WISKERED BULBUL': 138,\n",
       " 'RING-NECKED PHEASANT': 139,\n",
       " 'ROADRUNNER': 140,\n",
       " 'ROBIN': 141,\n",
       " 'ROCK DOVE': 142,\n",
       " 'ROSY FACED LOVEBIRD': 143,\n",
       " 'ROUGH LEG BUZZARD': 144,\n",
       " 'RUBY THROATED HUMMINGBIRD': 145,\n",
       " 'RUFOUS KINGFISHER': 146,\n",
       " 'RUFUOS MOTMOT': 147,\n",
       " 'SAND MARTIN': 148,\n",
       " 'SCARLET IBIS': 149,\n",
       " 'SCARLET MACAW': 150,\n",
       " 'SHOEBILL': 151,\n",
       " 'SNOWY EGRET': 152,\n",
       " 'SORA': 153,\n",
       " 'SPLENDID WREN': 154,\n",
       " 'SPOONBILL': 155,\n",
       " 'STORK BILLED KINGFISHER': 156,\n",
       " 'STRAWBERRY FINCH': 157,\n",
       " 'TAIWAN MAGPIE': 158,\n",
       " 'TEAL DUCK': 159,\n",
       " 'TIT MOUSE': 160,\n",
       " 'TOUCHAN': 161,\n",
       " 'TRUMPTER SWAN': 162,\n",
       " 'TURKEY VULTURE': 163,\n",
       " 'TURQUOISE MOTMOT': 164,\n",
       " 'VARIED THRUSH': 165,\n",
       " 'VENEZUELIAN TROUPIAL': 166,\n",
       " 'VERMILION FLYCATHER': 167,\n",
       " 'VIOLET GREEN SWALLOW': 168,\n",
       " 'WESTERN MEADOWLARK': 169,\n",
       " 'WHITE CHEEKED TURACO': 170,\n",
       " 'WILD TURKEY': 171,\n",
       " 'WILSONS BIRD OF PARADISE': 172,\n",
       " 'WOOD DUCK': 173,\n",
       " 'YELLOW HEADED BLACKBIRD': 174}"
      ]
     },
     "execution_count": 5,
     "metadata": {},
     "output_type": "execute_result"
    }
   ],
   "source": []
  },
  {
   "cell_type": "code",
   "execution_count": null,
   "metadata": {},
   "outputs": [],
   "source": []
  }
 ],
 "metadata": {
  "kernelspec": {
   "display_name": "Python 3",
   "language": "python",
   "name": "python3"
  },
  "language_info": {
   "codemirror_mode": {
    "name": "ipython",
    "version": 3
   },
   "file_extension": ".py",
   "mimetype": "text/x-python",
   "name": "python",
   "nbconvert_exporter": "python",
   "pygments_lexer": "ipython3",
   "version": "3.7.4"
  }
 },
 "nbformat": 4,
 "nbformat_minor": 2
}
